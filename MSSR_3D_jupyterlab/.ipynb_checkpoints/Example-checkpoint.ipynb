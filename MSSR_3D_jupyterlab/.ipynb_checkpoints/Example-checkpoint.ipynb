{
 "cells": [
  {
   "cell_type": "code",
   "execution_count": null,
   "id": "1314681e-3fcc-4ca3-9010-da73bc7cca67",
   "metadata": {
    "tags": []
   },
   "outputs": [],
   "source": [
    "#If you're not sure whether you have the necessary package for the implementation\n",
    "#run this only one time.\n",
    "!pip install numpy==1.24.3\n",
    "!pip install imageio==2.31.1\n",
    "!pip install \"napari[all]\"\n",
    "!pip install tqdm==4.65.0"
   ]
  },
  {
   "cell_type": "code",
   "execution_count": 1,
   "id": "4afe1be0-b7ba-4ef2-8755-3b32d2ffbad9",
   "metadata": {
    "tags": []
   },
   "outputs": [],
   "source": [
    "import mssr3d as ms\n",
    "import napari\n",
    "import numpy as np\n",
    "import imageio"
   ]
  },
  {
   "cell_type": "code",
   "execution_count": 2,
   "id": "aa836866-c5a9-4cf7-8a8e-5fb4e97c373b",
   "metadata": {
    "tags": []
   },
   "outputs": [],
   "source": [
    "img_path=\"Ts_568_0_5um_confocal.tif\"\n",
    "hs=2\n",
    "amplification=2\n",
    "order=0\n",
    "psf=2\n",
    "interpolation='fourier'"
   ]
  },
  {
   "cell_type": "code",
   "execution_count": 3,
   "id": "87cc2f09-23e3-45ed-8a80-77244800f1a5",
   "metadata": {
    "tags": []
   },
   "outputs": [
    {
     "name": "stdout",
     "output_type": "stream",
     "text": [
      "Starting process...\n",
      "1/2 in progress...\n"
     ]
    },
    {
     "name": "stderr",
     "output_type": "stream",
     "text": [
      "100%|███████████████████████████████████████████| 1/1 [00:00<00:00, 5216.80it/s]\n"
     ]
    },
    {
     "name": "stdout",
     "output_type": "stream",
     "text": [
      "2/2 in progress...\n"
     ]
    },
    {
     "name": "stderr",
     "output_type": "stream",
     "text": [
      "100%|██████████████████████████████████████████| 1/1 [00:00<00:00, 14513.16it/s]\n",
      "/home/jair/Downloads/MSSR_3D-main/MSSR_3D_jupyterlab/mssr3d.py:74: RuntimeWarning: invalid value encountered in divide\n",
      "  MS = AMP - (yAccum / weightAccum)\n",
      "/home/jair/Downloads/MSSR_3D-main/MSSR_3D_jupyterlab/mssr3d.py:78: RuntimeWarning: invalid value encountered in divide\n",
      "  I3 = MS / np.max(MS)\n"
     ]
    }
   ],
   "source": [
    "I=ms.mssr3d(img_path,amplification,order,psf,interpolation)"
   ]
  },
  {
   "cell_type": "code",
   "execution_count": 4,
   "id": "2995df9c-3894-4b73-837a-c410e7b5bd12",
   "metadata": {
    "tags": []
   },
   "outputs": [
    {
     "data": {
      "text/plain": [
       "<Image layer 'Processed volume' at 0x7ff54da3c910>"
      ]
     },
     "execution_count": 4,
     "metadata": {},
     "output_type": "execute_result"
    }
   ],
   "source": [
    "viewer = napari.Viewer()\n",
    "viewer.add_image(I,name='Processed volume')"
   ]
  }
 ],
 "metadata": {
  "kernelspec": {
   "display_name": "Python 3 (ipykernel)",
   "language": "python",
   "name": "python3"
  },
  "language_info": {
   "codemirror_mode": {
    "name": "ipython",
    "version": 3
   },
   "file_extension": ".py",
   "mimetype": "text/x-python",
   "name": "python",
   "nbconvert_exporter": "python",
   "pygments_lexer": "ipython3",
   "version": "3.11.4"
  }
 },
 "nbformat": 4,
 "nbformat_minor": 5
}
