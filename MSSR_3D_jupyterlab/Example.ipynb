{
 "cells": [
  {
   "cell_type": "code",
   "execution_count": null,
   "id": "1314681e-3fcc-4ca3-9010-da73bc7cca67",
   "metadata": {
    "tags": []
   },
   "outputs": [
    {
     "name": "stdout",
     "output_type": "stream",
     "text": [
      "Requirement already satisfied: numpy==1.24.3 in /home/jair/anaconda3/envs/envj/lib/python3.11/site-packages (1.24.3)\n",
      "^C\n",
      "Traceback (most recent call last):\n",
      "  File \"/home/jair/anaconda3/envs/envj/bin/pip\", line 11, in <module>\n",
      "    sys.exit(main())\n",
      "             ^^^^^^\n",
      "  File \"/home/jair/anaconda3/envs/envj/lib/python3.11/site-packages/pip/_internal/cli/main.py\", line 79, in main\n",
      "    return command.main(cmd_args)\n",
      "           ^^^^^^^^^^^^^^^^^^^^^^\n",
      "  File \"/home/jair/anaconda3/envs/envj/lib/python3.11/site-packages/pip/_internal/cli/base_command.py\", line 101, in main\n",
      "    return self._main(args)\n",
      "           ^^^^^^^^^^^^^^^^\n",
      "  File \"/home/jair/anaconda3/envs/envj/lib/python3.11/site-packages/pip/_internal/cli/base_command.py\", line 236, in _main\n",
      "    self.handle_pip_version_check(options)\n",
      "  File \"/home/jair/anaconda3/envs/envj/lib/python3.11/site-packages/pip/_internal/cli/req_command.py\", line 180, in handle_pip_version_check\n",
      "    session = self._build_session(\n",
      "              ^^^^^^^^^^^^^^^^^^^^\n",
      "  File \"/home/jair/anaconda3/envs/envj/lib/python3.11/site-packages/pip/_internal/cli/req_command.py\", line 125, in _build_session\n",
      "    session = PipSession(\n",
      "              ^^^^^^^^^^^\n",
      "  File \"/home/jair/anaconda3/envs/envj/lib/python3.11/site-packages/pip/_internal/network/session.py\", line 342, in __init__\n",
      "    self.headers[\"User-Agent\"] = user_agent()\n",
      "                                 ^^^^^^^^^^^^\n",
      "  File \"/home/jair/anaconda3/envs/envj/lib/python3.11/site-packages/pip/_internal/network/session.py\", line 175, in user_agent\n",
      "    setuptools_dist = get_default_environment().get_distribution(\"setuptools\")\n",
      "                      ^^^^^^^^^^^^^^^^^^^^^^^^^^^^^^^^^^^^^^^^^^^^^^^^^^^^^^^^\n",
      "  File \"/home/jair/anaconda3/envs/envj/lib/python3.11/site-packages/pip/_internal/metadata/importlib/_envs.py\", line 188, in get_distribution\n",
      "    return next(matches, None)\n",
      "           ^^^^^^^^^^^^^^^^^^^\n",
      "  File \"/home/jair/anaconda3/envs/envj/lib/python3.11/site-packages/pip/_internal/metadata/importlib/_envs.py\", line 183, in <genexpr>\n",
      "    matches = (\n",
      "              ^\n",
      "  File \"/home/jair/anaconda3/envs/envj/lib/python3.11/site-packages/pip/_internal/metadata/base.py\", line 612, in iter_all_distributions\n",
      "    for dist in self._iter_distributions():\n",
      "  File \"/home/jair/anaconda3/envs/envj/lib/python3.11/site-packages/pip/_internal/metadata/importlib/_envs.py\", line 180, in _iter_distributions\n",
      "    yield from finder.find_linked(location)\n",
      "  File \"/home/jair/anaconda3/envs/envj/lib/python3.11/site-packages/pip/_internal/metadata/importlib/_envs.py\", line 98, in find_linked\n",
      "    for child in path.iterdir():\n",
      "  File \"/home/jair/anaconda3/envs/envj/lib/python3.11/pathlib.py\", line 931, in iterdir\n",
      "    for name in os.listdir(self):\n",
      "                ^^^^^^^^^^^^^^^^\n",
      "KeyboardInterrupt\n",
      "Collecting imageio==2.31.1\n",
      "  Obtaining dependency information for imageio==2.31.1 from https://files.pythonhosted.org/packages/c7/b0/7b6c35b8636ed773325cdb6f5ac3cd36afba63d99e20ed59c521cf5018b4/imageio-2.31.1-py3-none-any.whl.metadata\n",
      "  Using cached imageio-2.31.1-py3-none-any.whl.metadata (4.7 kB)\n",
      "Requirement already satisfied: numpy in /home/jair/anaconda3/envs/envj/lib/python3.11/site-packages (from imageio==2.31.1) (1.24.3)\n",
      "Requirement already satisfied: pillow>=8.3.2 in /home/jair/anaconda3/envs/envj/lib/python3.11/site-packages (from imageio==2.31.1) (9.4.0)\n",
      "Using cached imageio-2.31.1-py3-none-any.whl (313 kB)\n"
     ]
    }
   ],
   "source": [
    "#If you're not sure whether you have the necessary package for the implementation\n",
    "#run this only one time.\n",
    "!pip install numpy==1.24.3\n",
    "!pip install imageio==2.31.1\n",
    "!pip install \"napari[all]\"\n",
    "!pip install tqdm==4.65.0"
   ]
  },
  {
   "cell_type": "code",
   "execution_count": null,
   "id": "4afe1be0-b7ba-4ef2-8755-3b32d2ffbad9",
   "metadata": {
    "tags": []
   },
   "outputs": [],
   "source": [
    "import mssr3d as ms\n",
    "import napari\n",
    "import numpy as np\n",
    "import imageio"
   ]
  },
  {
   "cell_type": "code",
   "execution_count": 2,
   "id": "aa836866-c5a9-4cf7-8a8e-5fb4e97c373b",
   "metadata": {
    "tags": []
   },
   "outputs": [],
   "source": [
    "img_path=\"Ts_568_0_5um_confocal.tif\"\n",
    "amplification=2\n",
    "order=0\n",
    "psf=2.77\n",
    "interpolation='fourier'"
   ]
  },
  {
   "cell_type": "code",
   "execution_count": 3,
   "id": "87cc2f09-23e3-45ed-8a80-77244800f1a5",
   "metadata": {
    "tags": []
   },
   "outputs": [
    {
     "name": "stdout",
     "output_type": "stream",
     "text": [
      "Starting process...\n",
      "1/2 in progress...\n"
     ]
    },
    {
     "name": "stderr",
     "output_type": "stream",
     "text": [
      "100%|█████████████████████████████████████████████| 5/5 [00:13<00:00,  2.68s/it]\n"
     ]
    },
    {
     "name": "stdout",
     "output_type": "stream",
     "text": [
      "2/2 in progress...\n"
     ]
    },
    {
     "name": "stderr",
     "output_type": "stream",
     "text": [
      "100%|█████████████████████████████████████████████| 5/5 [00:25<00:00,  5.10s/it]\n"
     ]
    }
   ],
   "source": [
    "I=ms.mssr3d(img_path,amplification,psf,order,interpolation)"
   ]
  },
  {
   "cell_type": "code",
   "execution_count": 4,
   "id": "2995df9c-3894-4b73-837a-c410e7b5bd12",
   "metadata": {
    "tags": []
   },
   "outputs": [
    {
     "data": {
      "text/plain": [
       "<Image layer 'Processed volume' at 0x7fe507cc4090>"
      ]
     },
     "execution_count": 4,
     "metadata": {},
     "output_type": "execute_result"
    }
   ],
   "source": [
    "viewer = napari.Viewer()\n",
    "viewer.add_image(I,name='Processed volume')"
   ]
  }
 ],
 "metadata": {
  "kernelspec": {
   "display_name": "Python 3 (ipykernel)",
   "language": "python",
   "name": "python3"
  },
  "language_info": {
   "codemirror_mode": {
    "name": "ipython",
    "version": 3
   },
   "file_extension": ".py",
   "mimetype": "text/x-python",
   "name": "python",
   "nbconvert_exporter": "python",
   "pygments_lexer": "ipython3",
   "version": "3.11.4"
  }
 },
 "nbformat": 4,
 "nbformat_minor": 5
}
